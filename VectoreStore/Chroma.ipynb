{
 "cells": [
  {
   "cell_type": "markdown",
   "metadata": {},
   "source": [
    "**Chroma**\n",
    "\n",
    "Chroma is an AI-native open-source vector database focused on developer productivity and hapiness. \\\n",
    "Chroma makes it easy to build LLM apps by making knowledge, facts, and skills pluggable for LLMs. \\\n",
    "Chroma gives you everything you need for retrieval:\n",
    "\n",
    "* Store embeddings and their metadata\n",
    "* Vector search\n",
    "* Full-text search\n",
    "* Document storage\n",
    "* Metadata filtering\n",
    "* Multi-modal retrieval\n",
    "\n",
    "\n",
    "\n",
    "\n",
    "\n"
   ]
  },
  {
   "cell_type": "code",
   "execution_count": 2,
   "metadata": {},
   "outputs": [],
   "source": [
    "# building a sample vectorstore db\n",
    "from langchain_chroma import Chroma\n",
    "from langchain_community.document_loaders import TextLoader\n",
    "from langchain_community.embeddings import OllamaEmbeddings\n",
    "from langchain_text_splitters import RecursiveCharacterTextSplitter\n"
   ]
  },
  {
   "cell_type": "code",
   "execution_count": 3,
   "metadata": {},
   "outputs": [
    {
     "data": {
      "text/plain": [
       "[Document(metadata={'source': 'speech.txt'}, page_content=\"My fellow dreamers and doers,\\n\\nToday marks not just another day, but a new beginning. Each of us carries within ourselves the power to create change, to inspire others, and to make a difference in this world.\\n\\nRemember that success is not measured by the heights we reach, but by the obstacles we overcome. Every setback is a setup for a comeback.\\n\\nIn this rapidly changing world, it's not the strongest or the smartest who survive, but those most adaptable to change. Embrace uncertainty as an opportunity for growth.\\n\\nYour potential is limited only by your imagination and your willingness to work towards your goals. The future belongs to those who believe in the beauty of their dreams.\\n\\nDon't be afraid to fail. In fact, fail forward. Learn from every mistake and let it fuel your determination to succeed.\\n\\nThe path ahead may not be easy, but nothing worth having ever is. Your journey is unique, and that's what makes it valuable.\\n\\nTake action today. Small steps forward are better than grand plans that never begin.\\n\\nBe kind to others along the way, for success without compassion is an empty victory.\\n\\nTogether, we can turn our dreams into reality. The time is now. Thank you.\\n\")]"
      ]
     },
     "execution_count": 3,
     "metadata": {},
     "output_type": "execute_result"
    }
   ],
   "source": [
    "loader=TextLoader('speech.txt')\n",
    "data=loader.load()\n",
    "data"
   ]
  },
  {
   "cell_type": "code",
   "execution_count": 4,
   "metadata": {},
   "outputs": [],
   "source": [
    "# Splitting\n",
    "text_splitter=RecursiveCharacterTextSplitter(chunk_size=200,chunk_overlap=0)\n",
    "splits=text_splitter.split_documents(data)\n"
   ]
  },
  {
   "cell_type": "code",
   "execution_count": 5,
   "metadata": {},
   "outputs": [
    {
     "name": "stderr",
     "output_type": "stream",
     "text": [
      "C:\\Users\\ROHIT GUPTA\\AppData\\Local\\Temp\\ipykernel_29068\\2175937815.py:1: LangChainDeprecationWarning: The class `OllamaEmbeddings` was deprecated in LangChain 0.3.1 and will be removed in 1.0.0. An updated version of the class exists in the :class:`~langchain-ollama package and should be used instead. To use it run `pip install -U :class:`~langchain-ollama` and import as `from :class:`~langchain_ollama import OllamaEmbeddings``.\n",
      "  embedding=OllamaEmbeddings(model=\"gemma:2b\")\n"
     ]
    },
    {
     "data": {
      "text/plain": [
       "<langchain_chroma.vectorstores.Chroma at 0x2ac682857e0>"
      ]
     },
     "execution_count": 5,
     "metadata": {},
     "output_type": "execute_result"
    }
   ],
   "source": [
    "embedding=OllamaEmbeddings(model=\"gemma:2b\")\n",
    "vectordb=Chroma.from_documents(documents=splits,embedding=embedding)\n",
    "vectordb\n"
   ]
  },
  {
   "cell_type": "code",
   "execution_count": 6,
   "metadata": {},
   "outputs": [
    {
     "data": {
      "text/plain": [
       "'Take action today. Small steps forward are better than grand plans that never begin.\\n\\nBe kind to others along the way, for success without compassion is an empty victory.'"
      ]
     },
     "execution_count": 6,
     "metadata": {},
     "output_type": "execute_result"
    }
   ],
   "source": [
    "# querying in the db\n",
    "query=\"What is the success without compassion?\"\n",
    "docs=vectordb.similarity_search(query)\n",
    "docs[0].page_content\n"
   ]
  },
  {
   "cell_type": "code",
   "execution_count": 8,
   "metadata": {},
   "outputs": [
    {
     "data": {
      "text/plain": [
       "<langchain_chroma.vectorstores.Chroma at 0x2ac6944a440>"
      ]
     },
     "execution_count": 8,
     "metadata": {},
     "output_type": "execute_result"
    }
   ],
   "source": [
    "# saving the db\n",
    "vectordb=Chroma.from_documents(documents=splits,embedding=embedding,persist_directory='./chroma_db')\n",
    "vectordb"
   ]
  },
  {
   "cell_type": "code",
   "execution_count": 9,
   "metadata": {},
   "outputs": [
    {
     "data": {
      "text/plain": [
       "'Take action today. Small steps forward are better than grand plans that never begin.\\n\\nBe kind to others along the way, for success without compassion is an empty victory.'"
      ]
     },
     "execution_count": 9,
     "metadata": {},
     "output_type": "execute_result"
    }
   ],
   "source": [
    "# loading the db\n",
    "vectordb=Chroma(persist_directory='./chroma_db',embedding_function=embedding)\n",
    "docs=vectordb.similarity_search(query)\n",
    "docs[0].page_content"
   ]
  },
  {
   "cell_type": "code",
   "execution_count": 10,
   "metadata": {},
   "outputs": [
    {
     "data": {
      "text/plain": [
       "'Take action today. Small steps forward are better than grand plans that never begin.\\n\\nBe kind to others along the way, for success without compassion is an empty victory.'"
      ]
     },
     "execution_count": 10,
     "metadata": {},
     "output_type": "execute_result"
    }
   ],
   "source": [
    "# Retriever Option\n",
    "retriever=vectordb.as_retriever()\n",
    "retriever.invoke(query)[0].page_content"
   ]
  },
  {
   "cell_type": "markdown",
   "metadata": {},
   "source": [
    "For various types of Databases:\n",
    "https://python.langchain.com/v0.2/docs/integrations/vectorstores/\n"
   ]
  }
 ],
 "metadata": {
  "kernelspec": {
   "display_name": "Python 3",
   "language": "python",
   "name": "python3"
  },
  "language_info": {
   "codemirror_mode": {
    "name": "ipython",
    "version": 3
   },
   "file_extension": ".py",
   "mimetype": "text/x-python",
   "name": "python",
   "nbconvert_exporter": "python",
   "pygments_lexer": "ipython3",
   "version": "3.10.0"
  }
 },
 "nbformat": 4,
 "nbformat_minor": 2
}
