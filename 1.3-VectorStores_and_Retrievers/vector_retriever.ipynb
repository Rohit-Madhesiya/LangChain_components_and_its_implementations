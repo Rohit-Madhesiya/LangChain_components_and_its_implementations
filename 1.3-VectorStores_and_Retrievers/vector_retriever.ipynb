{
 "cells": [
  {
   "cell_type": "markdown",
   "metadata": {},
   "source": [
    "**Vector Stores and Retrievers**\n",
    "\n",
    "The LangChain's vector store and retrievers abstractions are designed to support retrieval of data `from vector databases and other sources` for integration with LLM workflows. \\\n",
    "They are important for applications that fetch data to be reasoned over as part of model inference, as in the case of Retrieval-Augmented Generation (RAG).\n",
    "\n",
    "Topic Cover:\n",
    "* Documents\n",
    "* Vector Stores\n",
    "* Retrievers"
   ]
  },
  {
   "cell_type": "markdown",
   "metadata": {},
   "source": [
    "**Documents:** \n",
    "\n",
    "LangChain implements a Document abstraction, which is intended to represent a unit of text and associated metadata.\\\n",
    "It has two attributes:\n",
    "* **page_content:** a string representating the content.\n",
    "* **metadata:** a dictionary containing arbitrary metadata. The metadata attribute can capture information about the source of the document, its relationship to other documents, and other information. \n",
    "\n",
    "Note that an individual Document object often represents a chunk of a larger document.\n"
   ]
  },
  {
   "cell_type": "code",
   "execution_count": 1,
   "metadata": {},
   "outputs": [],
   "source": [
    "from langchain_core.documents import Document\n",
    "\n",
    "documents=[\n",
    "  Document(\n",
    "    page_content=\"Dogs are great companions, known for their loyalty and friendliness\",\n",
    "    metadata={\"source\":\"mammal-pets-doc\"}\n",
    "  ),\n",
    "  Document(\n",
    "    page_content=\"Cats are independent pets that often enjoy their own space\",\n",
    "    metadata={\"source\":\"mammal-pets-doc\"}\n",
    "  ),\n",
    "  Document(\n",
    "    page_content=\"Goldfish are popular pets for beginners, requiring relatively simple care\",\n",
    "    metadata={\"source\":\"fish-pets-doc\"}\n",
    "  ),\n",
    "  Document(\n",
    "    page_content=\"Parrots are intelligent birds capable of mimicking human speech\",\n",
    "    metadata={\"source\":\"bird-pets-doc\"}\n",
    "  )\n",
    "]"
   ]
  },
  {
   "cell_type": "code",
   "execution_count": 2,
   "metadata": {},
   "outputs": [
    {
     "data": {
      "text/plain": [
       "[Document(metadata={'source': 'mammal-pets-doc'}, page_content='Dogs are great companions, known for their loyalty and friendliness'),\n",
       " Document(metadata={'source': 'mammal-pets-doc'}, page_content='Cats are independent pets that often enjoy their own space'),\n",
       " Document(metadata={'source': 'fish-pets-doc'}, page_content='Goldfish are popular pets for beginners, requiring relatively simple care'),\n",
       " Document(metadata={'source': 'bird-pets-doc'}, page_content='Parrots are intelligent birds capable of mimicking human speech')]"
      ]
     },
     "execution_count": 2,
     "metadata": {},
     "output_type": "execute_result"
    }
   ],
   "source": [
    "documents"
   ]
  },
  {
   "cell_type": "markdown",
   "metadata": {},
   "source": [
    "Vector Store"
   ]
  },
  {
   "cell_type": "code",
   "execution_count": 4,
   "metadata": {},
   "outputs": [
    {
     "data": {
      "text/plain": [
       "ChatGroq(client=<groq.resources.chat.completions.Completions object at 0x00000208E37D8250>, async_client=<groq.resources.chat.completions.AsyncCompletions object at 0x00000208E37D9600>, model_name='Llama3-8b-8192', model_kwargs={}, groq_api_key=SecretStr('**********'))"
      ]
     },
     "execution_count": 4,
     "metadata": {},
     "output_type": "execute_result"
    }
   ],
   "source": [
    "import os\n",
    "from dotenv import load_dotenv\n",
    "load_dotenv()\n",
    "from langchain_groq import ChatGroq\n",
    "groq_api_key=os.getenv(\"GROQ_API_KEY\")\n",
    "\n",
    "os.environ[\"HUGGING_FACE_ACCESS_TOKEN\"]=os.getenv(\"HUGGING_FACE_ACCESS_TOKEN\")\n",
    "\n",
    "llm=ChatGroq(model=\"Llama3-8b-8192\",groq_api_key=groq_api_key)\n",
    "llm"
   ]
  },
  {
   "cell_type": "code",
   "execution_count": 8,
   "metadata": {},
   "outputs": [],
   "source": [
    "from langchain_huggingface import HuggingFaceEmbeddings\n",
    "embeddings=HuggingFaceEmbeddings(model_name=\"all-MiniLM-L6-v2\")"
   ]
  },
  {
   "cell_type": "code",
   "execution_count": 9,
   "metadata": {},
   "outputs": [
    {
     "data": {
      "text/plain": [
       "<langchain_chroma.vectorstores.Chroma at 0x208e3904f10>"
      ]
     },
     "execution_count": 9,
     "metadata": {},
     "output_type": "execute_result"
    }
   ],
   "source": [
    "from langchain_chroma import Chroma\n",
    "\n",
    "vector_store=Chroma.from_documents(documents,embedding=embeddings)\n",
    "vector_store"
   ]
  },
  {
   "cell_type": "code",
   "execution_count": 10,
   "metadata": {},
   "outputs": [
    {
     "data": {
      "text/plain": [
       "[Document(id='c498c825-df51-405c-aac9-75113d505f69', metadata={'source': 'mammal-pets-doc'}, page_content='Cats are independent pets that often enjoy their own space'),\n",
       " Document(id='4279a498-5edd-4e08-803c-b6fe70ddb789', metadata={'source': 'mammal-pets-doc'}, page_content='Dogs are great companions, known for their loyalty and friendliness'),\n",
       " Document(id='3824102f-89ed-4cff-9fb8-6ceb254770a0', metadata={'source': 'bird-pets-doc'}, page_content='Parrots are intelligent birds capable of mimicking human speech'),\n",
       " Document(id='37815421-7c63-4692-8dec-0a27845ee3f1', metadata={'source': 'fish-pets-doc'}, page_content='Goldfish are popular pets for beginners, requiring relatively simple care')]"
      ]
     },
     "execution_count": 10,
     "metadata": {},
     "output_type": "execute_result"
    }
   ],
   "source": [
    "vector_store.similarity_search(\"cat\")"
   ]
  },
  {
   "cell_type": "markdown",
   "metadata": {},
   "source": [
    "Async Query"
   ]
  },
  {
   "cell_type": "code",
   "execution_count": 11,
   "metadata": {},
   "outputs": [
    {
     "data": {
      "text/plain": [
       "[Document(id='4279a498-5edd-4e08-803c-b6fe70ddb789', metadata={'source': 'mammal-pets-doc'}, page_content='Dogs are great companions, known for their loyalty and friendliness'),\n",
       " Document(id='c498c825-df51-405c-aac9-75113d505f69', metadata={'source': 'mammal-pets-doc'}, page_content='Cats are independent pets that often enjoy their own space'),\n",
       " Document(id='37815421-7c63-4692-8dec-0a27845ee3f1', metadata={'source': 'fish-pets-doc'}, page_content='Goldfish are popular pets for beginners, requiring relatively simple care'),\n",
       " Document(id='3824102f-89ed-4cff-9fb8-6ceb254770a0', metadata={'source': 'bird-pets-doc'}, page_content='Parrots are intelligent birds capable of mimicking human speech')]"
      ]
     },
     "execution_count": 11,
     "metadata": {},
     "output_type": "execute_result"
    }
   ],
   "source": [
    "await vector_store.asimilarity_search(\"dog\")"
   ]
  },
  {
   "cell_type": "code",
   "execution_count": 12,
   "metadata": {},
   "outputs": [
    {
     "data": {
      "text/plain": [
       "[(Document(id='c498c825-df51-405c-aac9-75113d505f69', metadata={'source': 'mammal-pets-doc'}, page_content='Cats are independent pets that often enjoy their own space'),\n",
       "  0.9436445236206055),\n",
       " (Document(id='4279a498-5edd-4e08-803c-b6fe70ddb789', metadata={'source': 'mammal-pets-doc'}, page_content='Dogs are great companions, known for their loyalty and friendliness'),\n",
       "  1.5413691997528076),\n",
       " (Document(id='3824102f-89ed-4cff-9fb8-6ceb254770a0', metadata={'source': 'bird-pets-doc'}, page_content='Parrots are intelligent birds capable of mimicking human speech'),\n",
       "  1.6284855604171753),\n",
       " (Document(id='37815421-7c63-4692-8dec-0a27845ee3f1', metadata={'source': 'fish-pets-doc'}, page_content='Goldfish are popular pets for beginners, requiring relatively simple care'),\n",
       "  1.7496694326400757)]"
      ]
     },
     "execution_count": 12,
     "metadata": {},
     "output_type": "execute_result"
    }
   ],
   "source": [
    "vector_store.similarity_search_with_score(\"cat\")"
   ]
  },
  {
   "cell_type": "markdown",
   "metadata": {},
   "source": [
    "---\n",
    "**Retrievers**\n",
    "\n",
    "LangChain VectorStore objects do not subclass Runnable, and so cannot immediately be integrated into LangChain Expression Language chains.\n",
    "\n",
    "LangChain Retrievers are Runnables, so they implement a standard set of methods (e.g., synchronous and asynchronous invoke and batch operations) and are designed to be incorporated in LCEL chains.\n",
    "\n",
    "We can create a simple version of this, without subclassing Retriever. If we choose what method we wish to use to retrieve documents, we can create a runnable easily."
   ]
  },
  {
   "cell_type": "code",
   "execution_count": 15,
   "metadata": {},
   "outputs": [
    {
     "data": {
      "text/plain": [
       "[[Document(id='c498c825-df51-405c-aac9-75113d505f69', metadata={'source': 'mammal-pets-doc'}, page_content='Cats are independent pets that often enjoy their own space')],\n",
       " [Document(id='4279a498-5edd-4e08-803c-b6fe70ddb789', metadata={'source': 'mammal-pets-doc'}, page_content='Dogs are great companions, known for their loyalty and friendliness')]]"
      ]
     },
     "execution_count": 15,
     "metadata": {},
     "output_type": "execute_result"
    }
   ],
   "source": [
    "# Building one around the similarity_search method\n",
    "from typing import List\n",
    "from langchain_core.documents import Document\n",
    "from langchain_core.runnables import RunnableLambda\n",
    "\n",
    "# Naive Approach\n",
    "retriever=RunnableLambda(vector_store.similarity_search).bind(k=1)\n",
    "retriever.batch([\"cat\",\"dog\"])\n"
   ]
  },
  {
   "cell_type": "markdown",
   "metadata": {},
   "source": [
    "**2nd Approach**\n",
    "\n",
    "Vector_store implement an as_retriever method that will generate a Retriever, specifically a VectorStoreRetriever. \n",
    "\n",
    "These retrievers include specific search_type and search_kwargs attributes that identify what methods of the underlying vector store to call, and how to parameterize them.\\\n",
    "For instance, we can replicate the above with the following:"
   ]
  },
  {
   "cell_type": "code",
   "execution_count": 16,
   "metadata": {},
   "outputs": [
    {
     "data": {
      "text/plain": [
       "[[Document(id='c498c825-df51-405c-aac9-75113d505f69', metadata={'source': 'mammal-pets-doc'}, page_content='Cats are independent pets that often enjoy their own space')],\n",
       " [Document(id='4279a498-5edd-4e08-803c-b6fe70ddb789', metadata={'source': 'mammal-pets-doc'}, page_content='Dogs are great companions, known for their loyalty and friendliness')]]"
      ]
     },
     "execution_count": 16,
     "metadata": {},
     "output_type": "execute_result"
    }
   ],
   "source": [
    "retriever=vector_store.as_retriever(\n",
    "  search_type=\"similarity\",\n",
    "  search_kwargs={\"k\":1}\n",
    ")\n",
    "retriever.batch([\"cat\",\"dog\"])"
   ]
  },
  {
   "cell_type": "markdown",
   "metadata": {},
   "source": [
    "Integrating Retriever with Chain\n",
    "\n",
    "**((RAG))**"
   ]
  },
  {
   "cell_type": "code",
   "execution_count": 17,
   "metadata": {},
   "outputs": [],
   "source": [
    "from langchain_core.prompts import ChatPromptTemplate\n",
    "from langchain_core.runnables import RunnablePassthrough\n",
    "\n",
    "message=\"\"\"\n",
    "Answer this question using the provided context only.\n",
    "{question}\n",
    "Context:\n",
    "{context}\n",
    "\"\"\"\n",
    "\n",
    "prompt=ChatPromptTemplate.from_messages(\n",
    "  [(\"human\",message)]\n",
    ")\n",
    "\n",
    "rag_chain={\"context\":retriever,\"question\":RunnablePassthrough()}|prompt|llm\n",
    "\n",
    "response=rag_chain.invoke(\"tell me about dogs\")"
   ]
  },
  {
   "cell_type": "code",
   "execution_count": 18,
   "metadata": {},
   "outputs": [
    {
     "data": {
      "text/plain": [
       "'According to the context, dogs are great companions, known for their loyalty and friendliness.'"
      ]
     },
     "execution_count": 18,
     "metadata": {},
     "output_type": "execute_result"
    }
   ],
   "source": [
    "response.content"
   ]
  },
  {
   "cell_type": "code",
   "execution_count": null,
   "metadata": {},
   "outputs": [],
   "source": []
  }
 ],
 "metadata": {
  "kernelspec": {
   "display_name": "Python 3",
   "language": "python",
   "name": "python3"
  },
  "language_info": {
   "codemirror_mode": {
    "name": "ipython",
    "version": 3
   },
   "file_extension": ".py",
   "mimetype": "text/x-python",
   "name": "python",
   "nbconvert_exporter": "python",
   "pygments_lexer": "ipython3",
   "version": "3.10.0"
  }
 },
 "nbformat": 4,
 "nbformat_minor": 2
}
