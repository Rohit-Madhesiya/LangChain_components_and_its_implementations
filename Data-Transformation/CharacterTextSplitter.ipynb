{
 "cells": [
  {
   "cell_type": "markdown",
   "metadata": {},
   "source": [
    "**How to split by character - Character Text Splitter**\n",
    "\n",
    "This is the simplest method. This splits based on a given character sequence, which defaults to \"\\n\\n\". Chunk length is measured by number of characters.\n",
    "1. **How the text is split:** by single character separator. \n",
    "2. **How the chunk size is measured:** by number of characters."
   ]
  },
  {
   "cell_type": "code",
   "execution_count": 1,
   "metadata": {},
   "outputs": [
    {
     "data": {
      "text/plain": [
       "[Document(metadata={'source': 'speech.txt'}, page_content=\"My fellow dreamers and doers,\\n\\nToday marks not just another day, but a new beginning. Each of us carries within ourselves the power to create change, to inspire others, and to make a difference in this world.\\n\\nRemember that success is not measured by the heights we reach, but by the obstacles we overcome. Every setback is a setup for a comeback.\\n\\nIn this rapidly changing world, it's not the strongest or the smartest who survive, but those most adaptable to change. Embrace uncertainty as an opportunity for growth.\\n\\nYour potential is limited only by your imagination and your willingness to work towards your goals. The future belongs to those who believe in the beauty of their dreams.\\n\\nDon't be afraid to fail. In fact, fail forward. Learn from every mistake and let it fuel your determination to succeed.\\n\\nThe path ahead may not be easy, but nothing worth having ever is. Your journey is unique, and that's what makes it valuable.\\n\\nTake action today. Small steps forward are better than grand plans that never begin.\\n\\nBe kind to others along the way, for success without compassion is an empty victory.\\n\\nTogether, we can turn our dreams into reality. The time is now. Thank you.\\n\")]"
      ]
     },
     "execution_count": 1,
     "metadata": {},
     "output_type": "execute_result"
    }
   ],
   "source": [
    "from langchain_community.document_loaders import TextLoader\n",
    "\n",
    "loader=TextLoader('speech.txt')\n",
    "\n",
    "docs=loader.load()\n",
    "docs\n"
   ]
  },
  {
   "cell_type": "code",
   "execution_count": 2,
   "metadata": {},
   "outputs": [
    {
     "name": "stderr",
     "output_type": "stream",
     "text": [
      "Created a chunk of size 177, which is longer than the specified 100\n",
      "Created a chunk of size 137, which is longer than the specified 100\n",
      "Created a chunk of size 169, which is longer than the specified 100\n",
      "Created a chunk of size 170, which is longer than the specified 100\n",
      "Created a chunk of size 119, which is longer than the specified 100\n",
      "Created a chunk of size 124, which is longer than the specified 100\n"
     ]
    },
    {
     "data": {
      "text/plain": [
       "[Document(metadata={'source': 'speech.txt'}, page_content='My fellow dreamers and doers,'),\n",
       " Document(metadata={'source': 'speech.txt'}, page_content='Today marks not just another day, but a new beginning. Each of us carries within ourselves the power to create change, to inspire others, and to make a difference in this world.'),\n",
       " Document(metadata={'source': 'speech.txt'}, page_content='Remember that success is not measured by the heights we reach, but by the obstacles we overcome. Every setback is a setup for a comeback.'),\n",
       " Document(metadata={'source': 'speech.txt'}, page_content=\"In this rapidly changing world, it's not the strongest or the smartest who survive, but those most adaptable to change. Embrace uncertainty as an opportunity for growth.\"),\n",
       " Document(metadata={'source': 'speech.txt'}, page_content='Your potential is limited only by your imagination and your willingness to work towards your goals. The future belongs to those who believe in the beauty of their dreams.'),\n",
       " Document(metadata={'source': 'speech.txt'}, page_content=\"Don't be afraid to fail. In fact, fail forward. Learn from every mistake and let it fuel your determination to succeed.\"),\n",
       " Document(metadata={'source': 'speech.txt'}, page_content=\"The path ahead may not be easy, but nothing worth having ever is. Your journey is unique, and that's what makes it valuable.\"),\n",
       " Document(metadata={'source': 'speech.txt'}, page_content='Take action today. Small steps forward are better than grand plans that never begin.'),\n",
       " Document(metadata={'source': 'speech.txt'}, page_content='Be kind to others along the way, for success without compassion is an empty victory.'),\n",
       " Document(metadata={'source': 'speech.txt'}, page_content='Together, we can turn our dreams into reality. The time is now. Thank you.')]"
      ]
     },
     "execution_count": 2,
     "metadata": {},
     "output_type": "execute_result"
    }
   ],
   "source": [
    "from langchain_text_splitters import CharacterTextSplitter\n",
    "\n",
    "text_splitter=CharacterTextSplitter(separator=\"\\n\\n\",chunk_size=100,chunk_overlap=20)\n",
    "\n",
    "text_splitter.split_documents(docs)\n",
    "\n"
   ]
  },
  {
   "cell_type": "code",
   "execution_count": 3,
   "metadata": {},
   "outputs": [
    {
     "name": "stderr",
     "output_type": "stream",
     "text": [
      "Created a chunk of size 177, which is longer than the specified 100\n",
      "Created a chunk of size 137, which is longer than the specified 100\n",
      "Created a chunk of size 169, which is longer than the specified 100\n",
      "Created a chunk of size 170, which is longer than the specified 100\n",
      "Created a chunk of size 119, which is longer than the specified 100\n",
      "Created a chunk of size 124, which is longer than the specified 100\n"
     ]
    },
    {
     "name": "stdout",
     "output_type": "stream",
     "text": [
      "page_content='My fellow dreamers and doers,'\n",
      "page_content='Today marks not just another day, but a new beginning. Each of us carries within ourselves the power to create change, to inspire others, and to make a difference in this world.'\n"
     ]
    }
   ],
   "source": [
    "speech=\"\"\n",
    "with open('speech.txt') as file:\n",
    "  speech=file.read()\n",
    "\n",
    "text_splitter=CharacterTextSplitter(chunk_size=100,chunk_overlap=20)\n",
    "text=text_splitter.create_documents([speech])\n",
    "print(text[0])\n",
    "print(text[1])\n"
   ]
  },
  {
   "cell_type": "code",
   "execution_count": null,
   "metadata": {},
   "outputs": [],
   "source": []
  }
 ],
 "metadata": {
  "kernelspec": {
   "display_name": "Python 3",
   "language": "python",
   "name": "python3"
  },
  "language_info": {
   "codemirror_mode": {
    "name": "ipython",
    "version": 3
   },
   "file_extension": ".py",
   "mimetype": "text/x-python",
   "name": "python",
   "nbconvert_exporter": "python",
   "pygments_lexer": "ipython3",
   "version": "3.10.0"
  }
 },
 "nbformat": 4,
 "nbformat_minor": 2
}
