{
 "cells": [
  {
   "cell_type": "markdown",
   "metadata": {},
   "source": [
    "Text Splitting from Documents"
   ]
  },
  {
   "cell_type": "code",
   "execution_count": 6,
   "metadata": {},
   "outputs": [
    {
     "data": {
      "text/plain": [
       "list"
      ]
     },
     "execution_count": 6,
     "metadata": {},
     "output_type": "execute_result"
    }
   ],
   "source": [
    "from langchain_community.document_loaders import TextLoader\n",
    "\n",
    "loader=TextLoader('speech.txt')\n",
    "\n",
    "docs=loader.load()\n",
    "type(docs)"
   ]
  },
  {
   "cell_type": "markdown",
   "metadata": {},
   "source": [
    "---\n",
    "**Text Splitting from Documents: RecursiveCharacter Text Splitters** \n",
    "\n",
    "This text splitter is the recommended one for generic text. \\\n",
    "It is parameterized by a list of character. \\\n",
    "It tries to split on them in order until the chunks are small enough. \\\n",
    "The default list is [\"\\n\\n\",\"\\n\",\" \",\"\"]. \n",
    "This has the effect of trying to keep all paragraphs (and then sentences, and then words) together as long as possible, as those would generically seem to be the strongest semantically related pieces of text. \n",
    "* **How the text is split:** by list of characters \n",
    "* **How the chunk size is measured:** by number of characters\n",
    "\n"
   ]
  },
  {
   "cell_type": "code",
   "execution_count": 10,
   "metadata": {},
   "outputs": [
    {
     "data": {
      "text/plain": [
       "[Document(metadata={'source': 'speech.txt'}, page_content='My fellow dreamers and doers,'),\n",
       " Document(metadata={'source': 'speech.txt'}, page_content='Today marks not just another day, but a new beginning. Each of us carries within ourselves the'),\n",
       " Document(metadata={'source': 'speech.txt'}, page_content='ourselves the power to create change, to inspire others, and to make a difference in this world.'),\n",
       " Document(metadata={'source': 'speech.txt'}, page_content='Remember that success is not measured by the heights we reach, but by the obstacles we overcome.'),\n",
       " Document(metadata={'source': 'speech.txt'}, page_content='we overcome. Every setback is a setup for a comeback.'),\n",
       " Document(metadata={'source': 'speech.txt'}, page_content=\"In this rapidly changing world, it's not the strongest or the smartest who survive, but those most\"),\n",
       " Document(metadata={'source': 'speech.txt'}, page_content='but those most adaptable to change. Embrace uncertainty as an opportunity for growth.'),\n",
       " Document(metadata={'source': 'speech.txt'}, page_content='Your potential is limited only by your imagination and your willingness to work towards your goals.'),\n",
       " Document(metadata={'source': 'speech.txt'}, page_content='towards your goals. The future belongs to those who believe in the beauty of their dreams.'),\n",
       " Document(metadata={'source': 'speech.txt'}, page_content=\"Don't be afraid to fail. In fact, fail forward. Learn from every mistake and let it fuel your\"),\n",
       " Document(metadata={'source': 'speech.txt'}, page_content='let it fuel your determination to succeed.'),\n",
       " Document(metadata={'source': 'speech.txt'}, page_content='The path ahead may not be easy, but nothing worth having ever is. Your journey is unique, and'),\n",
       " Document(metadata={'source': 'speech.txt'}, page_content=\"is unique, and that's what makes it valuable.\"),\n",
       " Document(metadata={'source': 'speech.txt'}, page_content='Take action today. Small steps forward are better than grand plans that never begin.'),\n",
       " Document(metadata={'source': 'speech.txt'}, page_content='Be kind to others along the way, for success without compassion is an empty victory.'),\n",
       " Document(metadata={'source': 'speech.txt'}, page_content='Together, we can turn our dreams into reality. The time is now. Thank you.')]"
      ]
     },
     "execution_count": 10,
     "metadata": {},
     "output_type": "execute_result"
    }
   ],
   "source": [
    "from langchain_text_splitters import RecursiveCharacterTextSplitter\n",
    "\n",
    "text_splitter=RecursiveCharacterTextSplitter(chunk_size=100,chunk_overlap=20)\n",
    "\n",
    "final_docs=text_splitter.split_documents(docs)\n",
    "\n",
    "final_docs"
   ]
  },
  {
   "cell_type": "code",
   "execution_count": 8,
   "metadata": {},
   "outputs": [
    {
     "name": "stdout",
     "output_type": "stream",
     "text": [
      "page_content='My fellow dreamers and doers,\n",
      "\n",
      "Today marks not just another day, but a new beginning. Each of us carries within ourselves the power to create change, to inspire others, and to make a difference in this world.\n",
      "\n",
      "Remember that success is not measured by the heights we reach, but by the obstacles we overcome. Every setback is a setup for a comeback.' metadata={'source': 'speech.txt'}\n",
      "page_content='In this rapidly changing world, it's not the strongest or the smartest who survive, but those most adaptable to change. Embrace uncertainty as an opportunity for growth.\n",
      "\n",
      "Your potential is limited only by your imagination and your willingness to work towards your goals. The future belongs to those who believe in the beauty of their dreams.\n",
      "\n",
      "Don't be afraid to fail. In fact, fail forward. Learn from every mistake and let it fuel your determination to succeed.' metadata={'source': 'speech.txt'}\n"
     ]
    }
   ],
   "source": [
    "print(final_docs[0])\n",
    "print(final_docs[1])"
   ]
  },
  {
   "cell_type": "code",
   "execution_count": 9,
   "metadata": {},
   "outputs": [
    {
     "data": {
      "text/plain": [
       "\"My fellow dreamers and doers,\\n\\nToday marks not just another day, but a new beginning. Each of us carries within ourselves the power to create change, to inspire others, and to make a difference in this world.\\n\\nRemember that success is not measured by the heights we reach, but by the obstacles we overcome. Every setback is a setup for a comeback.\\n\\nIn this rapidly changing world, it's not the strongest or the smartest who survive, but those most adaptable to change. Embrace uncertainty as an opportunity for growth.\\n\\nYour potential is limited only by your imagination and your willingness to work towards your goals. The future belongs to those who believe in the beauty of their dreams.\\n\\nDon't be afraid to fail. In fact, fail forward. Learn from every mistake and let it fuel your determination to succeed.\\n\\nThe path ahead may not be easy, but nothing worth having ever is. Your journey is unique, and that's what makes it valuable.\\n\\nTake action today. Small steps forward are better than grand plans that never begin.\\n\\nBe kind to others along the way, for success without compassion is an empty victory.\\n\\nTogether, we can turn our dreams into reality. The time is now. Thank you.\\n\""
      ]
     },
     "execution_count": 9,
     "metadata": {},
     "output_type": "execute_result"
    }
   ],
   "source": [
    "speech=\"\"\n",
    "with open('speech.txt') as file:\n",
    "  speech=file.read()\n",
    "speech"
   ]
  },
  {
   "cell_type": "code",
   "execution_count": 12,
   "metadata": {},
   "outputs": [
    {
     "name": "stdout",
     "output_type": "stream",
     "text": [
      "[Document(metadata={}, page_content='My fellow dreamers and doers,'), Document(metadata={}, page_content='Today marks not just another day, but a new'), Document(metadata={}, page_content='but a new beginning. Each of us carries within'), Document(metadata={}, page_content='within ourselves the power to create change, to'), Document(metadata={}, page_content='to inspire others, and to make a difference in'), Document(metadata={}, page_content='in this world.'), Document(metadata={}, page_content='Remember that success is not measured by the'), Document(metadata={}, page_content='by the heights we reach, but by the obstacles we'), Document(metadata={}, page_content='we overcome. Every setback is a setup for a'), Document(metadata={}, page_content='for a comeback.'), Document(metadata={}, page_content=\"In this rapidly changing world, it's not the\"), Document(metadata={}, page_content='not the strongest or the smartest who survive,'), Document(metadata={}, page_content='survive, but those most adaptable to change.'), Document(metadata={}, page_content='change. Embrace uncertainty as an opportunity for'), Document(metadata={}, page_content='for growth.'), Document(metadata={}, page_content='Your potential is limited only by your'), Document(metadata={}, page_content='by your imagination and your willingness to work'), Document(metadata={}, page_content='to work towards your goals. The future belongs to'), Document(metadata={}, page_content='to those who believe in the beauty of their'), Document(metadata={}, page_content='of their dreams.'), Document(metadata={}, page_content=\"Don't be afraid to fail. In fact, fail forward.\"), Document(metadata={}, page_content='forward. Learn from every mistake and let it fuel'), Document(metadata={}, page_content='it fuel your determination to succeed.'), Document(metadata={}, page_content='The path ahead may not be easy, but nothing worth'), Document(metadata={}, page_content='worth having ever is. Your journey is unique, and'), Document(metadata={}, page_content=\"and that's what makes it valuable.\"), Document(metadata={}, page_content='Take action today. Small steps forward are better'), Document(metadata={}, page_content='better than grand plans that never begin.'), Document(metadata={}, page_content='Be kind to others along the way, for success'), Document(metadata={}, page_content='success without compassion is an empty victory.'), Document(metadata={}, page_content='Together, we can turn our dreams into reality.'), Document(metadata={}, page_content='reality. The time is now. Thank you.')]\n"
     ]
    }
   ],
   "source": [
    "text_splitter=RecursiveCharacterTextSplitter(chunk_size=50,chunk_overlap=10)\n",
    "\n",
    "text=text_splitter.create_documents([speech])\n",
    "print(text)"
   ]
  },
  {
   "cell_type": "code",
   "execution_count": 17,
   "metadata": {},
   "outputs": [
    {
     "name": "stdout",
     "output_type": "stream",
     "text": [
      "page_content='My fellow dreamers and doers,'\n",
      "page_content='Today marks not just another day, but a new'\n",
      "page_content='but a new beginning. Each of us carries within'\n"
     ]
    },
    {
     "data": {
      "text/plain": [
       "list"
      ]
     },
     "execution_count": 17,
     "metadata": {},
     "output_type": "execute_result"
    }
   ],
   "source": [
    "print(text[0])\n",
    "print(text[1])\n",
    "print(text[2])\n",
    "type(text[0])\n",
    "type(text)"
   ]
  }
 ],
 "metadata": {
  "kernelspec": {
   "display_name": "Python 3",
   "language": "python",
   "name": "python3"
  },
  "language_info": {
   "codemirror_mode": {
    "name": "ipython",
    "version": 3
   },
   "file_extension": ".py",
   "mimetype": "text/x-python",
   "name": "python",
   "nbconvert_exporter": "python",
   "pygments_lexer": "ipython3",
   "version": "3.10.0"
  }
 },
 "nbformat": 4,
 "nbformat_minor": 2
}
