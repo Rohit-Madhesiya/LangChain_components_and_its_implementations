{
 "cells": [
  {
   "cell_type": "markdown",
   "metadata": {},
   "source": [
    "**How to Split Text by HTML Header**\n",
    "\n",
    "HTMLHeaderTextSplitter is a \"structure-aware\" chunker that splits text at the HTML element level and adds metadata for each header \"relevant\" to any given chunk. \n",
    "\n",
    "It can return chunks element by element or combine elements with the same metadata, with the objectives of, \n",
    "\n",
    "(a): keeping related text grouped (more or less) semantically, and \n",
    "\n",
    "(b): preserving context-rich information encoded in document structures. \n",
    "\n",
    "It can be used with other text splitters as part of a chunking pipeline."
   ]
  },
  {
   "cell_type": "code",
   "execution_count": 1,
   "metadata": {},
   "outputs": [],
   "source": [
    "from langchain_text_splitters import HTMLHeaderTextSplitter\n",
    "\n",
    "html_string=\"\"\"\n",
    "<html>\n",
    "<head>\n",
    "    <title>Sample Page</title>\n",
    "</head>\n",
    "<body>\n",
    "    <h1>Welcome to My Page</h1>\n",
    "    <p>This is a simple paragraph under the main heading.</p>\n",
    "    \n",
    "    <h2>Section 1</h2>\n",
    "    <p>This is the first section of my page. It contains some basic information.</p>\n",
    "    <div>\n",
    "    <h2>Section 2</h2>\n",
    "    <p>This is the second section with more details. Here we can add various content.</p>\n",
    "    </div>\n",
    "    <h3>Subsection 2.1</h3>\n",
    "    <p>This is a subsection with even more specific information.</p>\n",
    "</body>\n",
    "</html>\n",
    "\n",
    "\"\"\""
   ]
  },
  {
   "cell_type": "code",
   "execution_count": 2,
   "metadata": {},
   "outputs": [
    {
     "data": {
      "text/plain": [
       "[Document(metadata={'Header 1': 'Welcome to My Page'}, page_content='Welcome to My Page'),\n",
       " Document(metadata={'Header 1': 'Welcome to My Page'}, page_content='This is a simple paragraph under the main heading.'),\n",
       " Document(metadata={'Header 1': 'Welcome to My Page', 'Header 2': 'Section 1'}, page_content='Section 1'),\n",
       " Document(metadata={'Header 1': 'Welcome to My Page', 'Header 2': 'Section 1'}, page_content='This is the first section of my page. It contains some basic information.'),\n",
       " Document(metadata={'Header 1': 'Welcome to My Page', 'Header 2': 'Section 2'}, page_content='Section 2'),\n",
       " Document(metadata={'Header 1': 'Welcome to My Page', 'Header 2': 'Section 2'}, page_content='This is the second section with more details. Here we can add various content.'),\n",
       " Document(metadata={'Header 1': 'Welcome to My Page', 'Header 3': 'Subsection 2.1'}, page_content='Subsection 2.1'),\n",
       " Document(metadata={'Header 1': 'Welcome to My Page', 'Header 3': 'Subsection 2.1'}, page_content='This is a subsection with even more specific information.')]"
      ]
     },
     "execution_count": 2,
     "metadata": {},
     "output_type": "execute_result"
    }
   ],
   "source": [
    "header_to_split_on=[\n",
    "  (\"h1\",\"Header 1\"),\n",
    "  (\"h2\",\"Header 2\"),\n",
    "  (\"h3\",\"Header 3\")\n",
    "]\n",
    "\n",
    "html_splitter=HTMLHeaderTextSplitter(headers_to_split_on=header_to_split_on)\n",
    "html_header_splits=html_splitter.split_text(html_string)\n",
    "\n",
    "html_header_splits\n",
    "\n",
    "\n",
    "\n",
    "\n",
    "\n"
   ]
  },
  {
   "cell_type": "code",
   "execution_count": 3,
   "metadata": {},
   "outputs": [
    {
     "data": {
      "text/plain": [
       "[Document(metadata={}, page_content='Tutorials  \\n×'),\n",
       " Document(metadata={'Header 3': 'Python'}, page_content='Python'),\n",
       " Document(metadata={'Header 3': 'Python'}, page_content='Python  \\nDjango  \\nNumpy  \\nPandas  \\nTkinter  \\nPytorch  \\nFlask  \\nOpenCV'),\n",
       " Document(metadata={'Header 3': 'AI, ML and Data Science'}, page_content='AI, ML and Data Science'),\n",
       " Document(metadata={'Header 3': 'AI, ML and Data Science'}, page_content='Artificial Intelligence  \\nMachine Learning  \\nData Science  \\nDeep Learning  \\nTensorFlow  \\nArtificial Neural Network  \\nMatplotlib  \\nPython Scipy'),\n",
       " Document(metadata={'Header 3': 'Java'}, page_content='Java'),\n",
       " Document(metadata={'Header 3': 'Java'}, page_content='Java  \\nServlet  \\nJSP  \\nSpring Boot  \\nSpring Framework  \\nHibernate  \\nJavaFX  \\nJava Web Services'),\n",
       " Document(metadata={'Header 3': 'B.Tech and MCA'}, page_content='B.Tech and MCA'),\n",
       " Document(metadata={'Header 3': 'B.Tech and MCA'}, page_content='DBMS  \\nData Structures  \\nOperating System  \\nComputer Network  \\nDAA  \\nComputer Organization  \\nSoftware Engineering  \\nData Mining'),\n",
       " Document(metadata={'Header 3': 'Web Technology'}, page_content='Web Technology'),\n",
       " Document(metadata={'Header 3': 'Web Technology'}, page_content='HTML  \\nCSS  \\nJavaScript  \\nJquery  \\nAngular-8  \\nReact JS  \\nReact Native  \\nNode JS'),\n",
       " Document(metadata={'Header 3': 'Software Testing'}, page_content='Software Testing'),\n",
       " Document(metadata={}, page_content='Software Testing  \\nSelenium  \\nJIRA  \\nJMeter  \\nPostman  \\nTestNG  \\nSoapUI  \\nCucumber  \\nInterview  \\n×'),\n",
       " Document(metadata={'Header 3': 'Technical Interview'}, page_content='Technical Interview'),\n",
       " Document(metadata={'Header 3': 'Technical Interview'}, page_content='C  \\nC++  \\nPhp  \\nJava  \\nPython  \\nJavaScript  \\nTypeScript'),\n",
       " Document(metadata={'Header 3': 'Java Interview'}, page_content='Java Interview'),\n",
       " Document(metadata={'Header 3': 'Java Interview'}, page_content='JDBC  \\nServlet  \\nMaven  \\nJenkins  \\nSpring  \\nSpring Boot  \\nJDB  \\nHibernate  \\nJSF'),\n",
       " Document(metadata={'Header 3': 'Web Interview'}, page_content='Web Interview'),\n",
       " Document(metadata={'Header 3': 'Web Interview'}, page_content='HTML  \\nCSS  \\nJavaScript  \\nJquery  \\nAngular  \\nNode-JS  \\nAJAX'),\n",
       " Document(metadata={'Header 3': 'Database Interview'}, page_content='Database Interview'),\n",
       " Document(metadata={'Header 3': 'Database Interview'}, page_content='DBMS  \\nSQL  \\nPL/SQL  \\nOracle  \\nMySQL  \\nMongoDB  \\nRedis  \\nMariaDB'),\n",
       " Document(metadata={'Header 3': 'Company Interviews'}, page_content='Company Interviews'),\n",
       " Document(metadata={}, page_content='IBM  \\nAdobe  \\nMicrosoft  \\nAmazon  \\nTCS  \\nHCL  \\nWipro  \\nDXC  \\nAccenture  \\nCapgemini  \\nSpace X  \\nEricsson  \\nInfosy  \\nIGate  \\nEXL  \\nIndiaMART  \\nSapient  \\nCompiler  \\n×'),\n",
       " Document(metadata={'Header 3': 'Online Compilers'}, page_content='Online Compilers'),\n",
       " Document(metadata={}, page_content='Python Online Compiler  \\nJava Online Compiler  \\nJ  \\nPHP Online Compiler  \\nC Online Compiler  \\nC++ Online Compiler  \\nHTML Online Compiler  \\nJavaScript Online Compiler  \\nTypeScript Online Compiler  \\nR Online Compiler  \\nSwift Online Compiler  \\nSw  \\nfunction applyTheme(e){const t=document.documentElement;Object.keys(e).forEach((o=>{t.style.setProperty(o,e[o])}))}function setThemeColors(e){localStorage.setItem(\"themeColors\",JSON.stringify(e)),applyTheme(e)}window.addEventListener(\"load\",(()=>{const e=JSON.parse(localStorage.getItem(\"themeColors\"));e&&applyTheme(e)}))  \\nfunction setThemeColors(e){const t=document.documentElement;Object.keys(e).forEach((o=>{t.style.setProperty(o,e[o])})),localStorage.setItem(\"themeColors\",JSON.stringify(e))}function toggleDarkMode(){const e=document.body,t=document.getElementById(\"dark-mode-icon\");e.classList.toggle(\"night-mode\")?(t.classList.remove(\"fa-moon\"),t.classList.add(\"fa-sun\"),localStorage.setItem(\"theme\",\"night\")):(t.classList.remove(\"fa-sun\"),t.classList.add(\"fa-moon\"),localStorage.setItem(\"theme\",\"day\"))}window.addEventListener(\"load\",(()=>{const e=JSON.parse(localStorage.getItem(\"themeColors\")),t=localStorage.getItem(\"theme\");e&&setThemeColors(e),\"night\"===t&&(document.body.classList.add(\"night-mode\"),document.getElementById(\"dark-mode-icon\").classList.remove(\"fa-moon\"),document.getElementById(\"dark-mode-icon\").classList.add(\"fa-sun\"))}))  \\nHome  \\nPython  \\nJava  \\nJavaScript  \\nHTML  \\nSQL  \\nPHP  \\nC#  \\nC++  \\nDS  \\nAptitude  \\nReasoning  \\nSelenium  \\nDBMS  \\nC  \\nAndriod  \\nInterview Q  \\nSpring Boot Tutorial  \\nSpring Boot Tutorial  \\nSpring Boot Version  \\nSpring vs Spring Boot vs Spring MVC  \\nSB Architecture  \\nSpring Maven Project  \\nSpring Boot Features  \\nCreating Project  \\nSpring Initializr  \\nDownload and Install STS IDE  \\nSpring Boot Example  \\nSpring Boot CLI  \\nSB Example-STS  \\nProject Components  \\nSB Annotations  \\nSB Dependency Management  \\nSB Application Properties  \\nSB Starters  \\nSB Starter Parent  \\nSB Starter Web  \\nSB Starter Data JPA  \\nSB Starter Actuator  \\nSB Starter Test  \\nSpring Boot DevTools  \\nMulti Module Project  \\nSB Packaging  \\nSB Auto-configuration  \\nTool Suite  \\nHello World Example  \\nProject Deployment Using Tomcat  \\nSpring Boot AOP  \\nSpring Boot AOP  \\nAOP Before Advice  \\nAOP After Advice  \\nAOP Around Advice  \\nAfter Returning Advice  \\nAfter Throwing Advice  \\nSpring Boot Database  \\nSpring Boot JPA  \\nSpring Boot JDBC  \\nSB JDBC Example  \\nSB H2 Database  \\nSB CRUD Operations  \\nSpring Boot View  \\nSB Thymeleaf View  \\nSB Caching  \\nSpring Boot Caching  \\nSB Cache Provider  \\nSpring Boot EhCaching  \\nSpring Boot Misc  \\nRun SB Application  \\nSB Change Port  \\nSB REST Example  \\nSpring Starter Project Wizard  \\nSpring Boot - RESTful  \\nIntroduction to RESTful Web Services With Spring Boot  \\nInitializing a RESTful Web Services  \\nSpring Boot Auto Configuration and Dispatcher Servlet  \\nEnhancing the Hello World Service with a Path Variable  \\nImplementing the POST Method to create User Resource  \\nImplementing Exception Handling- 404 Resource Not Found  \\nImplementing Generic Exception Handling for all Resources  \\nImplementing DELETE Method to Delete a User Resource  \\nImplementing Validations for RESTful Services  \\nImplementing HATEOAS for RESTful Services  \\nInternationalization of RESTful Services  \\nContent Negotiation Implementing Support for XML  \\nConfiguring Auto Generation of Swagger Documentation  \\nIntroduction to Swagger Documentation Format  \\nEnhancing Swagger Documentation with Custom Annotations  \\nMonitoring APIs with Spring Boot Actuator  \\nImplementing Static Filtering for RESTful Services  \\nImplementing Dynamic Filtering for RESTful Services  \\nVersioning RESTful Web Services-Basic Approach With URIs  \\nImplementing Basic Authentication with Spring Security  \\nConnecting RESTful Services to JPA  \\nUpdating GET Methods on User Resource to Use JPA  \\nUpdating POST and DELETE methods on UserResource to use JPA  \\nCreating Post Entity and Many to One Relationship with User Entity  \\nImplementing a GET service to retrieve all Posts of a User  \\nImplementing POST Service to Create a Post for a User  \\nRichardson Maturity Model  \\nRESTful Web Services Best Practice  \\nSpring Tutorial  \\nSpring Cloud  \\nSpring Microservices  \\nSpring Microservices Tutorial  \\nInterview Questions  \\nSpring Interview  \\nJavatpoint.com is now TpointTech.com  \\nJavatpoint.com is now changed to TpointTech.com, so we request you to subscribe our newsletter for further updates.  \\nSubscribe  \\nnext →  \\n← prev'),\n",
       " Document(metadata={'Header 1': 'Spring Boot Starters'}, page_content='Spring Boot Starters'),\n",
       " Document(metadata={'Header 1': 'Spring Boot Starters'}, page_content='provides a number of   that allow us to add jars in the classpath. Spring Boot built-in  make development easier and rapid.  are the  .  \\nSpring Boot  \\nstarters  \\nstarters  \\nSpring Boot Starters  \\ndependency descriptors  \\nIn the Spring Boot Framework, all the starters follow a similar naming pattern:  , where  denotes a particular type of application. For example, if we want to use Spring and JPA for database access, we need to include the   dependency in our   file of the project.  \\nspring-boot-starter-*  \\n*  \\nspring-boot-starter-data-jpa  \\npom.xml'),\n",
       " Document(metadata={'Header 1': 'Spring Boot Starters', 'Header 2': 'Third-Party Starters'}, page_content='Third-Party Starters'),\n",
       " Document(metadata={'Header 1': 'Spring Boot Starters', 'Header 2': 'Third-Party Starters'}, page_content=\"We can also include   in our project. But we do not use   for including third party dependency. The spring-boot-starter is reserved for official Spring Boot artifacts. The third-party starter starts with the name of the project. For example, the third-party project name is  then the dependency name will be  \\nthird party starters  \\nspring-boot-starter  \\nabc,  \\nabc-spring-boot-starter.  \\nThe Spring Boot Framework provides the following application starters under the   group.  \\norg.springframework.boot  \\nName  \\nDescription  \\nspring-boot-starter-thymeleaf  \\nIt is used to build MVC web applications using Thymeleaf views.  \\nspring-boot-starter-data-couchbase  \\nIt is used for the Couchbase document-oriented database and Spring Data Couchbase.  \\nspring-boot-starter-artemis  \\nIt is used for JMS messaging using Apache Artemis.  \\nspring-boot-starter-web-services  \\nIt is used for Spring Web Services.  \\nspring-boot-starter-mail  \\nIt is used to support Java Mail and Spring Framework's email sending.  \\nspring-boot-starter-data-redis  \\nIt is used for Redis key-value data store with Spring Data Redis and the Jedis client.  \\nspring-boot-starter-web  \\nIt is used for building the web application, including RESTful applications using Spring MVC. It uses Tomcat as the default embedded container.  \\nspring-boot-starter-data-gemfire  \\nIt is used to GemFire distributed data store and Spring Data GemFire.  \\nspring-boot-starter-activemq  \\nIt is used in JMS messaging using Apache ActiveMQ.  \\nspring-boot-starter-data-elasticsearch  \\nIt is used in Elasticsearch search and analytics engine and Spring Data Elasticsearch.  \\nspring-boot-starter-integration  \\nIt is used for Spring Integration.  \\nspring-boot-starter-test  \\nIt is used to test Spring Boot applications with libraries, including JUnit, Hamcrest, and Mockito.  \\nspring-boot-starter-jdbc  \\nIt is used for JDBC with the Tomcat JDBC connection pool.  \\nspring-boot-starter-mobile  \\nIt is used for building web applications using Spring Mobile.  \\nspring-boot-starter-validation  \\nIt is used for Java Bean Validation with Hibernate Validator.  \\nspring-boot-starter-hateoas  \\nIt is used to build a hypermedia-based RESTful web application with Spring MVC and Spring HATEOAS.  \\nspring-boot-starter-jersey  \\nIt is used to build RESTful web applications using JAX-RS and Jersey. An alternative to spring-boot-starter-web.  \\nspring-boot-starter-data-neo4j  \\nIt is used for the Neo4j graph database and Spring Data Neo4j.  \\nspring-boot-starter-data-ldap  \\nIt is used for Spring Data LDAP.  \\nspring-boot-starter-websocket  \\nIt is used for building the WebSocket applications. It uses Spring Framework's WebSocket support.  \\nspring-boot-starter-aop  \\nIt is used for aspect-oriented programming with Spring AOP and AspectJ.  \\nspring-boot-starter-amqp  \\nIt is used for Spring AMQP and Rabbit MQ.  \\nspring-boot-starter-data-cassandra  \\nIt is used for Cassandra distributed database and Spring Data Cassandra.  \\nspring-boot-starter-social-facebook  \\nIt is used for Spring Social Facebook.  \\nspring-boot-starter-jta-atomikos  \\nIt is used for JTA transactions using Atomikos.  \\nspring-boot-starter-security  \\nIt is used for Spring Security.  \\nspring-boot-starter-mustache  \\nIt is used for building MVC web applications using Mustache views.  \\nspring-boot-starter-data-jpa  \\nIt is used for Spring Data JPA with Hibernate.  \\nspring-boot-starter  \\nIt is used for core starter, including auto-configuration support, logging, and YAML.  \\nspring-boot-starter-groovy-templates  \\nIt is used for building MVC web applications using Groovy Template views.  \\nspring-boot-starter-freemarker  \\nIt is used for building MVC web applications using FreeMarker views.  \\nspring-boot-starter-batch  \\nIt is used for Spring Batch.  \\nspring-boot-starter-social-linkedin  \\nIt is used for Spring Social LinkedIn.  \\nspring-boot-starter-cache  \\nIt is used for Spring Framework's caching support.  \\nspring-boot-starter-data-solr  \\nIt is used for the Apache Solr search platform with Spring Data Solr.  \\nspring-boot-starter-data-mongodb  \\nIt is used for MongoDB document-oriented database and Spring Data MongoDB.  \\nspring-boot-starter-jooq  \\nIt is used for jOOQ to access SQL databases. An alternative to spring-boot-starter-data-jpa or spring-boot-starter-jdbc.  \\nspring-boot-starter-jta-narayana  \\nIt is used for Spring Boot Narayana JTA Starter.  \\nspring-boot-starter-cloud-connectors  \\nIt is used for Spring Cloud Connectors that simplifies connecting to services in cloud platforms like Cloud Foundry and Heroku.  \\nspring-boot-starter-jta-bitronix  \\nIt is used for JTA transactions using Bitronix.  \\nspring-boot-starter-social-twitter  \\nIt is used for Spring Social Twitter.  \\nspring-boot-starter-data-rest  \\nIt is used for exposing Spring Data repositories over REST using Spring Data REST.\"),\n",
       " Document(metadata={'Header 1': 'Spring Boot Starters', 'Header 2': 'Spring Boot Production Starters'}, page_content='Spring Boot Production Starters'),\n",
       " Document(metadata={'Header 1': 'Spring Boot Starters', 'Header 2': 'Spring Boot Production Starters'}, page_content=\"Name  \\nDescription  \\nspring-boot-starter-actuator  \\nIt is used for Spring Boot's Actuator that provides production-ready features to help you monitor and manage your application.  \\nspring-boot-starter-remote-shell  \\nIt is used for the CRaSH remote shell to monitor and manage your application over SSH. Deprecated since 1.5.\"),\n",
       " Document(metadata={'Header 1': 'Spring Boot Starters', 'Header 2': 'Spring Boot Technical Starters'}, page_content='Spring Boot Technical Starters'),\n",
       " Document(metadata={'Header 1': 'Spring Boot Starters', 'Header 2': 'Spring Boot Technical Starters'}, page_content='Name  \\nDescription  \\nspring-boot-starter-undertow  \\nIt is used for Undertow as the embedded servlet container. An alternative to spring-boot-starter-tomcat.  \\nspring-boot-starter-jetty  \\nIt is used for Jetty as the embedded servlet container. An alternative to spring-boot-starter-tomcat.  \\nspring-boot-starter-logging  \\nIt is used for logging using Logback. Default logging starter.  \\nspring-boot-starter-tomcat  \\nIt is used for Tomcat as the embedded servlet container. Default servlet container starter used by spring-boot-starter-web.  \\nspring-boot-starter-log4j2  \\nIt is used for Log4j2 for logging. An alternative to spring-boot-starter-logging.  \\nNext Topic  \\nSpring Boot Starter Parent  \\n← prev  \\nnext →'),\n",
       " Document(metadata={'Header 2': 'Related Posts'}, page_content='Related Posts'),\n",
       " Document(metadata={'Header 2': 'Related Posts', 'Header 3': 'SB Starter Data JPA'}, page_content='SB Starter Data JPA'),\n",
       " Document(metadata={'Header 2': 'Related Posts', 'Header 3': 'SB Starter Data JPA'}, page_content='Spring Data JPA Spring Data is a high-level Spring Source project. Its purpose is to unify and easy access to the different kinds of persistence stores, both relational database systems, and NoSQL data stores. When we implement a new application, we should focus on the business logic...  \\n5 min read'),\n",
       " Document(metadata={'Header 2': 'Related Posts', 'Header 3': 'Multi Module Project'}, page_content='Multi Module Project'),\n",
       " Document(metadata={'Header 2': 'Related Posts', 'Header 3': 'Multi Module Project'}, page_content='Spring Boot Multi-Module Project Multi-Module Project A Spring Boot project that contains nested maven projects is called the multi-module project. In the multi-module project, the parent project works as a container for base maven configurations. In other words, a multi-module project is built from a parent pom that...  \\n17 min read'),\n",
       " Document(metadata={'Header 2': 'Related Posts', 'Header 3': 'SB Starter Web'}, page_content='SB Starter Web'),\n",
       " Document(metadata={'Header 2': 'Related Posts', 'Header 3': 'SB Starter Web'}, page_content='Spring Boot Starter Web There are two important features of spring-boot-starter-web: It is compatible for web development Auto configuration If we want to develop a web application, we need to add the following dependency in pom.xml file: &lt;dependency&gt; &lt;groupId&gt;org.springframework.boot&lt;/groupId&gt; &lt;artifactId&gt;spring-boot-starter-web&lt;/artifactId&gt; &lt;version&gt;2.2.2.RELEASE&lt;/version&gt; &lt;/dependency&gt; Starter of Spring web uses Spring MVC, REST and Tomcat as a default embedded...  \\n2 min read'),\n",
       " Document(metadata={'Header 2': 'Related Posts', 'Header 3': 'SB Starter Parent'}, page_content='SB Starter Parent'),\n",
       " Document(metadata={'Header 2': 'Related Posts', 'Header 3': 'SB Starter Parent'}, page_content='Spring Boot Starter Parent Spring Boot Starter Parent The spring-boot-starter-parent is a project starter. It provides default configurations for our applications. It is used internally by all dependencies. All Spring Boot projects use spring-boot-starter-parent as a parent in pom.xml file. &lt;parent&gt; &lt;groupId&gt;org.springframework.boot&lt;/groupId&gt; &lt;artifactId&gt;spring-boot-starter-parent&lt;/artifactId&gt; &lt;version&gt;1.4.0.RELEASE&lt;/version&gt; &lt;/parent&gt; Parent Poms allow us to manage the following things...  \\n2 min read'),\n",
       " Document(metadata={'Header 2': 'Related Posts', 'Header 3': 'SB Starter Test'}, page_content='SB Starter Test'),\n",
       " Document(metadata={'Header 2': 'Related Posts', 'Header 3': 'SB Starter Test'}, page_content='Spring Boot Starter Test The spring-boot-starter-test is the primary dependency for the test. It contains the majority of elements required for our tests. There are several different types of tests that we can write to help test and automate the health of an application. Before starting any...  \\n2 min read'),\n",
       " Document(metadata={'Header 2': 'Related Posts', 'Header 3': 'SB Packaging'}, page_content='SB Packaging'),\n",
       " Document(metadata={'Header 2': 'Related Posts', 'Header 3': 'SB Packaging'}, page_content='Spring Boot Packaging In the J2EE application, modules are packed as JAR, WAR, and EAR. It is the compressed file formats that is used in the J2EE. J2EE defines three types of archives: WAR JAR EAR WAR WAR stands for Web Archive. WAR file represents the web application. Web module contains...  \\n2 min read'),\n",
       " Document(metadata={'Header 2': 'Related Posts', 'Header 3': 'Spring Boot DevTools'}, page_content='Spring Boot DevTools'),\n",
       " Document(metadata={'Header 2': 'Related Posts', 'Header 3': 'Spring Boot DevTools'}, page_content='Spring Boot 1.3 provides another module called . DevTools stands for Developer Tool. The aim of the module is to try and improve the development time while working with the Spring Boot application. pick up the changes and restart the application. We can implement the...  \\n4 min read'),\n",
       " Document(metadata={'Header 2': 'Related Posts', 'Header 3': 'SB Starter Actuator'}, page_content='SB Starter Actuator'),\n",
       " Document(metadata={'Header 2': 'Related Posts', 'Header 3': 'SB Starter Actuator'}, page_content='Spring Boot Starter Actuator Spring Boot Actuator Spring Boot Actuator is a sub-project of the Spring Boot Framework. It includes a number of additional features that help us to monitor and manage the Spring Boot application. It contains the actuator endpoints (the place where the resources live)....  \\n4 min read'),\n",
       " Document(metadata={'Header 2': 'Related Posts', 'Header 3': 'SB Application Properties'}, page_content='SB Application Properties'),\n",
       " Document(metadata={'Header 2': 'Related Posts', 'Header 3': 'SB Application Properties'}, page_content='Spring Boot Application Properties Spring Boot Framework comes with a built-in mechanism for application configuration using a file called application.properties. It is located inside the src/main/resources folder, as shown in the following figure. Spring Boot provides various properties that can be configured in the application.properties file. The properties...  \\n3 min read'),\n",
       " Document(metadata={'Header 2': 'Related Posts', 'Header 3': 'SB Auto-configuration'}, page_content='SB Auto-configuration'),\n",
       " Document(metadata={'Header 2': 'Related Posts', 'Header 3': 'SB Auto-configuration'}, page_content='Spring Boot Auto-configuration Spring Boot auto-configuration automatically configures the Spring application based on the jar dependencies that we have added. For example, if the H2 database Jar is present in the classpath and we have not configured any beans related to the database manually, the Spring Boot&#39;s...  \\n6 min read'),\n",
       " Document(metadata={'Header 2': 'Learn Important Tutorial'}, page_content='Learn Important Tutorial'),\n",
       " Document(metadata={'Header 2': 'Learn Important Tutorial'}, page_content='Python  \\nJava  \\nJavascript  \\nHTML  \\nDatabase  \\nPHP  \\nC++  \\nReact'),\n",
       " Document(metadata={'Header 2': 'B.Tech / MCA'}, page_content='B.Tech / MCA'),\n",
       " Document(metadata={'Header 2': 'B.Tech / MCA'}, page_content='DBMS  \\nData Structures  \\nDAA  \\nOperating System  \\nComputer Network  \\nCompiler Design  \\nComputer Organization  \\nDiscrete Mathematics  \\nEthical Hacking  \\nComputer Graphics  \\nWeb Technology  \\nSoftware Engineering  \\nCyber Security  \\nAutomata  \\nC Programming  \\nC++  \\nJava  \\n.Net  \\nPython  \\nPrograms  \\nControl System  \\nData Warehouse'),\n",
       " Document(metadata={'Header 2': 'Preparation'}, page_content='Preparation'),\n",
       " Document(metadata={}, page_content='Aptitude  \\nReasoning  \\nVerbal Ability  \\nInterview Questions  \\nCompany Questions  \\nfunction closePopup(){document.getElementById(\"popup\").style.display=\"none\"}setTimeout((function(){localStorage.getItem(\"popupShown\")||(document.getElementById(\"popup\").style.display=\"flex\",localStorage.setItem(\"popupShown\",\"true\"))}),5e3)  \\n$(document).ready((function(){$(\"#subscribeBtn\").click((function(){var e=$(\"#email\").val().trim();\"\"!==e?$.ajax({url:\"/subscribe\",type:\"POST\",contentType:\"application/json\",data:JSON.stringify({email:e}),beforeSend:function(){$(\"#subscribeBtn\").prop(\"disabled\",!0).html(\"Subscribing...\")},success:function(e){$(\"#message\").html(\"<span style=\\'color: green;\\'>Subscription successful! Please check your email.</span>\"),$(\"#email\").val(\"\")},error:function(e){var s=e.responseJSON?e.responseJSON.error:\"Subscription failed.\";$(\"#message\").html(\"<span style=\\'color: red;\\'>\"+s+\"</span>\")},complete:function(){$(\"#subscribeBtn\").prop(\"disabled\",!1).html(\\'Subscribe <i class=\"fa fa-paper-plane text-primary fs-4\"></i>\\')}}):$(\"#message\").html(\"<span style=\\'color: red;\\'>Please enter your email.</span>\")}))}))  \\nWe provides tutorials and interview questions of all technology like java tutorial, android, java frameworks  \\nContact info  \\nG-13, 2nd Floor, Sec-3, Noida, UP, 201301, India  \\nFollow us  \\nLatest Post  \\nTutorials List  \\nPRIVACY POLICY  \\nTutorials  \\nJava  \\nData Structures  \\nC Programming  \\nC++ Tutorial  \\nC# Tutorial  \\nPHP Tutorial  \\nHTML Tutorial  \\nJavaScript Tutorial  \\njQuery Tutorial  \\nSpring Tutorial  \\nInterview Questions  \\nTcs  \\nIntuit  \\nWipro  \\nAdobe  \\nInfosys  \\nAmazon  \\nAccenture  \\nCognizant  \\nCapgemini  \\nMicrosoft  \\nOnline Compiler  \\nC  \\nR  \\nC++  \\nPhp  \\nJava  \\nHtml  \\nSwift  \\nPython  \\nJavaScript  \\nTypeScript  \\n© Copyright 2025 TpointTech.com. All Rights Reserved.  \\ndp.SyntaxHighlighter.HighlightAll(\"code\")  \\nconst hamburger=document.querySelector(\".hamburger\"),navMenu=document.querySelector(\".nav\");function open_menu(){hamburger.classList.toggle(\"active\"),navMenu.classList.toggle(\"active\")}hamburger?.addEventListener(\"click\",open_menu);const navLink=document.querySelectorAll(\".nav-link\");function closeMenu(){hamburger?.classList?.remove(\"active\"),navMenu?.classList?.remove(\"active\")}navLink.forEach((e=>e.addEventListener(\"click\",closeMenu)))  \\nfunction toggleSidebar(){let e=document.querySelector(\".col-md-2.sidebar\"),l=document.querySelector(\".leftmenu\");window.innerWidth<=895&&(\"none\"===e.style.display?(e.style.display=\"block\",l.style.display=\"block\",e.style.position=\"fixed\",e.style.zIndex=\"555\"):(e.style.display=\"none\",l.style.display=\"none\"))}toggleSidebar()  \\nfunction handleAccordionOnLoad(){const o=window.innerWidth<=768,e=window.location.pathname;document.querySelectorAll(\".leftmenu a\").forEach((n=>{if(n.getAttribute(\"href\")===e){const e=n.closest(\".accordion-item\");if(e){const n=e.querySelector(\".accordion-collapse\");n&&(o?n.classList.remove(\"show\"):n.classList.add(\"show\"))}}}))}handleAccordionOnLoad(),window.addEventListener(\"resize\",handleAccordionOnLoad)  \\nconst ads=[{image:\"https://javatpoint-images.s3.eu-north-1.amazonaws.com/static/images/Online_mba.png\",link:\"https://bit.ly/UUOA0147\"},{image:\"https://javatpoint-images.s3.eu-north-1.amazonaws.com/static/images/language_ad.png\",link:\"https://languagebrainy.com\"},{image:\"https://javatpoint-images.s3.eu-north-1.amazonaws.com/static/images/language_brainy.jpg\",link:\"https://languagebrainy.com\"},{image:\"https://javatpoint-images.s3.amazonaws.com/static/images/language_brainy_ad.jpg\",link:\"https://languagebrainy.com\"},{image:\"https://javatpoint-images.s3.amazonaws.com/static/images/language_ad_5.jpg\",link:\"https://languagebrainy.com\"}];function getRandomAds(){return ads.sort((()=>.5-Math.random())).slice(0,2)}function displayAds(){const a=getRandomAds(),t=document.getElementById(\"ad-container\");t.innerHTML=\"\",a.forEach((a=>{const n=document.createElement(\"div\");n.classList.add(\"ad-item\");const e=document.createElement(\"a\");e.href=a.link,e.target=\"_blank\";const i=document.createElement(\"img\");i.src=a.image,i.alt=\"Advertisement\",e.appendChild(i),n.appendChild(e),t.appendChild(n)}))}displayAds()')]"
      ]
     },
     "execution_count": 3,
     "metadata": {},
     "output_type": "execute_result"
    }
   ],
   "source": [
    "url=\"https://www.tpointtech.com/spring-boot-starters\"\n",
    "\n",
    "header_to_split_on=[\n",
    "  (\"h1\",\"Header 1\"),\n",
    "  (\"h2\",\"Header 2\"),\n",
    "  (\"h3\",\"Header 3\")\n",
    "]\n",
    "\n",
    "html_splitter=HTMLHeaderTextSplitter(headers_to_split_on=header_to_split_on)\n",
    "html_header_splits=html_splitter.split_text_from_url(url)\n",
    "html_header_splits\n",
    "\n"
   ]
  },
  {
   "cell_type": "code",
   "execution_count": null,
   "metadata": {},
   "outputs": [],
   "source": []
  }
 ],
 "metadata": {
  "kernelspec": {
   "display_name": "Python 3",
   "language": "python",
   "name": "python3"
  },
  "language_info": {
   "codemirror_mode": {
    "name": "ipython",
    "version": 3
   },
   "file_extension": ".py",
   "mimetype": "text/x-python",
   "name": "python",
   "nbconvert_exporter": "python",
   "pygments_lexer": "ipython3",
   "version": "3.10.0"
  }
 },
 "nbformat": 4,
 "nbformat_minor": 2
}
